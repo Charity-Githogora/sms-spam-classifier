{
  "cells": [
    {
      "cell_type": "markdown",
      "metadata": {
        "id": "view-in-github",
        "colab_type": "text"
      },
      "source": [
        "<a href=\"https://colab.research.google.com/github/Charity-Githogora/sms-spam-classifier/blob/main/fcc_sms_text_classification.ipynb\" target=\"_parent\"><img src=\"https://colab.research.google.com/assets/colab-badge.svg\" alt=\"Open In Colab\"/></a>"
      ]
    },
    {
      "cell_type": "markdown",
      "source": [
        "### Install and import required libraries\n",
        "\n",
        "This cell installs TensorFlow (latest nightly version) and `tensorflow-datasets`, then imports necessary libraries like TensorFlow, pandas, NumPy, and matplotlib for building and training the model.\n"
      ],
      "metadata": {
        "id": "rgmcbTwazvfU"
      }
    },
    {
      "cell_type": "code",
      "execution_count": null,
      "metadata": {
        "id": "8RZOuS9LWQvv"
      },
      "outputs": [],
      "source": [
        "# import libraries\n",
        "try:\n",
        "  # %tensorflow_version only exists in Colab.\n",
        "  !pip install tf-nightly\n",
        "except Exception:\n",
        "  pass\n",
        "import tensorflow as tf\n",
        "import pandas as pd\n",
        "from tensorflow import keras\n",
        "!pip install tensorflow-datasets\n",
        "import tensorflow_datasets as tfds\n",
        "import numpy as np\n",
        "import matplotlib.pyplot as plt\n",
        "\n",
        "print(tf.__version__)"
      ]
    },
    {
      "cell_type": "markdown",
      "source": [
        "### Download dataset\n",
        "\n",
        "This cell downloads the SMS Spam Collection training and validation datasets (in TSV format) using `wget`, and defines file paths for loading them.\n"
      ],
      "metadata": {
        "id": "s6IM2qn1z2AN"
      }
    },
    {
      "cell_type": "code",
      "execution_count": null,
      "metadata": {
        "id": "lMHwYXHXCar3"
      },
      "outputs": [],
      "source": [
        "# get data files\n",
        "!wget https://cdn.freecodecamp.org/project-data/sms/train-data.tsv\n",
        "!wget https://cdn.freecodecamp.org/project-data/sms/valid-data.tsv\n",
        "\n",
        "train_file_path = \"train-data.tsv\"\n",
        "test_file_path = \"valid-data.tsv\""
      ]
    },
    {
      "cell_type": "markdown",
      "source": [
        "### Load and preprocess data\n",
        "\n",
        "We load the training and test datasets into pandas DataFrames, map labels (`ham`/`spam`) to binary values (0/1), tokenize the messages, and pad them to a uniform length for neural network input.\n"
      ],
      "metadata": {
        "id": "ZaUpCrpuz8eA"
      }
    },
    {
      "cell_type": "code",
      "execution_count": null,
      "metadata": {
        "id": "g_h508FEClxO"
      },
      "outputs": [],
      "source": [
        "# Load data\n",
        "train_data = pd.read_csv(train_file_path, sep='\\t', header=None, names=[\"label\", \"message\"])\n",
        "test_data = pd.read_csv(test_file_path, sep='\\t', header=None, names=[\"label\", \"message\"])\n",
        "\n",
        "# Convert labels to binary: ham = 0, spam = 1\n",
        "train_data['label'] = train_data['label'].map({'ham': 0, 'spam': 1})\n",
        "test_data['label'] = test_data['label'].map({'ham': 0, 'spam': 1})\n",
        "\n",
        "# Split inputs and outputs\n",
        "X_train = train_data['message'].values\n",
        "y_train = train_data['label'].values\n",
        "X_test = test_data['message'].values\n",
        "y_test = test_data['label'].values\n",
        "\n",
        "# Tokenize the text\n",
        "tokenizer = tf.keras.preprocessing.text.Tokenizer(num_words=1000, oov_token=\"<OOV>\")\n",
        "tokenizer.fit_on_texts(X_train)\n",
        "\n",
        "X_train_seq = tokenizer.texts_to_sequences(X_train)\n",
        "X_test_seq = tokenizer.texts_to_sequences(X_test)\n",
        "\n",
        "# Pad sequences\n",
        "X_train_padded = tf.keras.preprocessing.sequence.pad_sequences(X_train_seq, maxlen=100, padding='post')\n",
        "X_test_padded = tf.keras.preprocessing.sequence.pad_sequences(X_test_seq, maxlen=100, padding='post')\n"
      ]
    },
    {
      "cell_type": "markdown",
      "source": [
        "### Build, train the model, and define prediction function\n",
        "\n",
        "We create a Bidirectional LSTM neural network to classify SMS messages. The model is compiled, trained, and a `predict_message` function is defined to return the predicted probability and label (\"ham\" or \"spam\").\n"
      ],
      "metadata": {
        "id": "ik9TfyTC1VFQ"
      }
    },
    {
      "cell_type": "code",
      "execution_count": null,
      "metadata": {
        "id": "zOMKywn4zReN"
      },
      "outputs": [],
      "source": [
        "# Build a better model\n",
        "model = tf.keras.Sequential([\n",
        "    tf.keras.layers.Embedding(input_dim=1000, output_dim=32, input_length=100),\n",
        "    tf.keras.layers.Bidirectional(tf.keras.layers.LSTM(32, return_sequences=True)),\n",
        "    tf.keras.layers.GlobalMaxPooling1D(),\n",
        "    tf.keras.layers.Dense(32, activation='relu'),\n",
        "    tf.keras.layers.Dense(1, activation='sigmoid')\n",
        "])\n",
        "\n",
        "# Compile the model\n",
        "model.compile(loss='binary_crossentropy', optimizer='adam', metrics=['accuracy'])\n",
        "\n",
        "# Train the model (10–15 epochs recommended)\n",
        "history = model.fit(X_train_padded, y_train, epochs=15, validation_data=(X_test_padded, y_test), verbose=2)\n",
        "\n",
        "# Predict function\n",
        "def predict_message(pred_text):\n",
        "  seq = tokenizer.texts_to_sequences([pred_text])\n",
        "  padded = tf.keras.preprocessing.sequence.pad_sequences(seq, maxlen=100, padding='post')\n",
        "  pred = model.predict(padded)[0][0]\n",
        "  label = 'spam' if pred > 0.5 else 'ham'\n",
        "  return [float(pred), label]\n"
      ]
    },
    {
      "cell_type": "markdown",
      "source": [
        "### Test a single custom message\n",
        "\n",
        "You can test how the model classifies any custom message by calling the `predict_message` function here.\n"
      ],
      "metadata": {
        "id": "dgJWON9F1czf"
      }
    },
    {
      "cell_type": "code",
      "execution_count": null,
      "metadata": {
        "id": "J9tD9yACG6M9"
      },
      "outputs": [],
      "source": [
        "# Test a single message prediction\n",
        "pred_text = \"how are you doing today?\"\n",
        "prediction = predict_message(pred_text)\n",
        "print(prediction)"
      ]
    },
    {
      "cell_type": "markdown",
      "source": [
        "### Test model with predefined messages\n",
        "\n",
        "This cell tests the model on a set of 7 known messages. If all are classified correctly, the challenge is marked as passed.\n"
      ],
      "metadata": {
        "id": "wnDbngK52qTn"
      }
    },
    {
      "cell_type": "code",
      "execution_count": null,
      "metadata": {
        "id": "Dxotov85SjsC"
      },
      "outputs": [],
      "source": [
        "# Run this cell to test your function and model. Do not modify contents.\n",
        "def test_predictions():\n",
        "  test_messages = [\"how are you doing today\",\n",
        "                   \"sale today! to stop texts call 98912460324\",\n",
        "                   \"i dont want to go. can we try it a different day? available sat\",\n",
        "                   \"our new mobile video service is live. just install on your phone to start watching.\",\n",
        "                   \"you have won £1000 cash! call to claim your prize.\",\n",
        "                   \"i'll bring it tomorrow. don't forget the milk.\",\n",
        "                   \"wow, is your arm alright. that happened to me one time too\"\n",
        "                  ]\n",
        "\n",
        "  test_answers = [\"ham\", \"spam\", \"ham\", \"spam\", \"spam\", \"ham\", \"ham\"]\n",
        "  passed = True\n",
        "\n",
        "  for msg, ans in zip(test_messages, test_answers):\n",
        "    prediction = predict_message(msg)\n",
        "    if prediction[1] != ans:\n",
        "      passed = False\n",
        "\n",
        "  if passed:\n",
        "    print(\"You passed the challenge. Great job!\")\n",
        "  else:\n",
        "    print(\"You haven't passed yet. Keep trying.\")\n",
        "\n",
        "test_predictions()\n"
      ]
    }
  ],
  "metadata": {
    "colab": {
      "name": "fcc_sms_text_classification.ipynb",
      "private_outputs": true,
      "provenance": [],
      "include_colab_link": true
    },
    "kernelspec": {
      "display_name": "Python 3",
      "name": "python3"
    },
    "language_info": {}
  },
  "nbformat": 4,
  "nbformat_minor": 0
}